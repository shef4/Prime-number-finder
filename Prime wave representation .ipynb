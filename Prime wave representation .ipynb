{
 "cells": [
  {
   "cell_type": "code",
   "execution_count": null,
   "metadata": {},
   "outputs": [],
   "source": [
    "from scipy import signal\n",
    "import matplotlib.pyplot as plot\n",
    "import numpy as np\n",
    "def Gen_squ_wave(p_freq, maxNum = 20):\n",
    "    plot_pts = 1000\n",
    "    n = np.linspace(0, maxNum, plot_pts, endpoint=True)\n",
    "    \n",
    "    #square wave to represnts prime number as frequency\n",
    "    (amp_scale,amp_shift) = (0.5,-0.5) #range -1 < p_wave < 0 \n",
    "    shift_right = -((1/p_freq)*np.pi)\n",
    "    d = 1-(1/p_freq)\n",
    "    scale_wave = 2/p_freq #dip always 1 therefore duty\n",
    "    cover_count = amp_scale*signal.square((scale_wave*np.pi*n)+shift_right, duty = d) + amp_shift\n",
    "    \n",
    "    #to include given prime freq in p detection\n",
    "    p_start = int((plot_pts/(2*maxNum))*(2*p_freq-1))\n",
    "    p_end = int((plot_pts/(2*maxNum))*(2*p_freq+1))\n",
    "    cover_count[p_start:p_end]+=2\n",
    "    '''\n",
    "    # Plot the square wave\n",
    "    plot.plot(n, cover_count)\n",
    "    plot.xticks(range(0, int(max(n)), 1))\n",
    "    # Give x,y,title axis label\n",
    "    plot.xlabel('Whole Numbers')\n",
    "    plot.ylabel('composit lvl')\n",
    "    plot.title('Prime Wave Coverage')\n",
    "    plot.axhline(y = 0, color = 'r')\n",
    "    # Display\n",
    "    plot.grid()\n",
    "    plot.show()\n",
    "    '''\n",
    "    \n",
    "    return (n, cover_count)\n",
    "\n"
   ]
  },
  {
   "cell_type": "code",
   "execution_count": null,
   "metadata": {},
   "outputs": [],
   "source": [
    "(n2, cover_count2) = Gen_squ_wave(2,30)\n",
    "(n3, cover_count3) = Gen_squ_wave(3,30)\n",
    "(n5, cover_count5) = Gen_squ_wave(5,30)\n",
    "(n7, cover_count7) = Gen_squ_wave(7,30)\n",
    "(n11, cover_count11) = Gen_squ_wave(11,30)\n",
    "(n13, cover_count13) = Gen_squ_wave(13,30)\n",
    "cc_super_pos = cover_count3 + cover_count2 + cover_count5 + cover_count7 +cover_count11 +cover_count13\n",
    "# Plot the square wave\n",
    "plot.plot(n2, cc_super_pos)\n",
    "plot.xticks(range(0, int(max(n2)), 1))\n",
    "# Give x,y,title axis label\n",
    "plot.xlabel('Whole Numbers')\n",
    "plot.ylabel('composit lvl')\n",
    "plot.title('Prime Wave Coverage')\n",
    "plot.axhline(y = 0, color = 'r')\n",
    "# Display\n",
    "plot.grid()\n",
    "plot.show()\n",
    "\n",
    "\n",
    "#1 =  Known prime\n",
    "#0 = found primes (w/ some error read below) \n",
    "#<0 =  level of composition (number of unique primes that lead to composite)\n",
    "# result wave has freq of summed know prime -> 2w+w3+w5 => f = 2*3*5 = 30 "
   ]
  },
  {
   "cell_type": "code",
   "execution_count": 56,
   "metadata": {},
   "outputs": [
    {
     "data": {
      "text/plain": [
       "\"\\nNote's on Error and Effeciency:\\nFirst error at p^2 for first p not added\\ne.g.\\nw2+w3 - first error 25 = 5^2 \\n1,2,3,4,[5],6,[7],8,9,... (1/2)*100 + (1/3)*100 = 50+33.3 = covers 83.3% of numbers\\n1x2, 1x3, \\n2x2, 2x3, \\n3x2, 3x3, \\n4x2, 4x3, \\n5x2, 5x3,\\n[No 5x5] -  first error will occure here as 5x2,5x3,5x4,[No 5x5], 5x6 = is covered \\n6x2, 6x3\\n\""
      ]
     },
     "execution_count": 56,
     "metadata": {},
     "output_type": "execute_result"
    }
   ],
   "source": [
    "'''\n",
    "Note's on Error and Effeciency:\n",
    "First error at p^2 for first p not added\n",
    "e.g.\n",
    "w2+w3 - first error 25 = 5^2 \n",
    "1,2,3,4,[5],6,[7],8,9,... (1/2)*100 + (1/3)*100 = 50+33.3 = covers 83.3% of numbers\n",
    "1x2, 1x3, \n",
    "2x2, 2x3, \n",
    "3x2, 3x3, \n",
    "4x2, 4x3, \n",
    "5x2, 5x3,\n",
    "[No 5x5] -  first error will occure here as 5x2,5x3,5x4,[No 5x5], 5x6 = is covered \n",
    "6x2, 6x3\n",
    "'''"
   ]
  },
  {
   "cell_type": "code",
   "execution_count": null,
   "metadata": {},
   "outputs": [],
   "source": [
    "'''\n",
    "With n p_waves we can find primes, P_s, in a range of p_n < P_s < (p_[n+1])^2\n",
    "let P_s = [p_a,p_b,...]\n",
    "such that \n",
    "p_ax1 - not covered\n",
    "    but \n",
    "        p_axp_n[0]/p_ax2 - will be covered by known base_case p_n's e.g 2,3,...\n",
    "        p_axp_n[1]/p_ax3 - will be covered by known base_case p_n's e.g 2,3,...\n",
    "    till p_axp_a - not covered\n",
    "    \n",
    "p_bx1 - not covered\n",
    "    but \n",
    "        p_bxp_n[0]/p_bx2 - will be covered by known base_case p_n's e.g 2,3,...\n",
    "        p_bxp_n[1]/p_bx3 - will be covered by known base_case p_n's e.g 2,3,...\n",
    "    till p_bxp_b - not covered\n",
    "        \n",
    "p_axp_a - not covered\n",
    "but p_axp_b will also not be covered but p_axp_b > p_axp_a\n",
    "therefore:\n",
    "    p_axp_a is the 1st error\n",
    "    p_axp_b is the 2nd error\n",
    "    p_bxp_b is the 3rd error\n",
    "    and so on ...\n",
    "\n",
    "for P_s < p_axp_a < P_[s+1] < p_axp_b < P_[s+2] < p_bxp_b\n",
    "    P_[s,s+1,s+2] set is accurate \n",
    "    \n",
    "Error Algo: \n",
    "    given know bases_cases P_n - [2,3,...,P]\n",
    "    \n",
    "    for P_s in P and not in P_n:\n",
    "        for p_az in P_s:\n",
    "            if P_found < (p_az)^2 < P_found < (p_[az+1]*p_az) < P_found < (p_[az+1])^2\n",
    "                P_found is an accuratly found prime\n",
    "'''"
   ]
  },
  {
   "cell_type": "code",
   "execution_count": null,
   "metadata": {},
   "outputs": [],
   "source": [
    "'''            \n",
    "known_p0(2), known_p1(3), ..., P , ... , p3^2(5^2) = E, ... , P , ... , p4xp3(5*7) = E,  ... , P , ... ,  p4^2(7^2) = E, ...\n",
    "\n",
    "Error at: \n",
    "    (p[n+0])^2 , pn[n+1]*p[n+1],(p[n+1])^2, p[n+1]*p[n+2], (p[n+2])^2, ...,p[n+k-1]*p[n+k],(p[n+k])^2\n",
    "    \n",
    "can find FP in P at:\n",
    "    FP0, (p[n+0])^2, FP1, pn[n+1]*p[n+1], FP2, (p[n+1])^2, FP3, ..., FP_k-1, p[n+k-1]*p[n+k], FP_k, (p[n+k])^2\n",
    "'''"
   ]
  }
 ],
 "metadata": {
  "kernelspec": {
   "display_name": "Python 3",
   "language": "python",
   "name": "python3"
  },
  "language_info": {
   "codemirror_mode": {
    "name": "ipython",
    "version": 3
   },
   "file_extension": ".py",
   "mimetype": "text/x-python",
   "name": "python",
   "nbconvert_exporter": "python",
   "pygments_lexer": "ipython3",
   "version": "3.8.5"
  }
 },
 "nbformat": 4,
 "nbformat_minor": 4
}
